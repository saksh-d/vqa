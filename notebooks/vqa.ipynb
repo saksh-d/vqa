{
 "cells": [
  {
   "cell_type": "markdown",
   "id": "47b9c1c0",
   "metadata": {},
   "source": [
    "# Visual Question Answering (VQA)\n",
    "This notebook implements a project called VQA"
   ]
  }
 ],
 "metadata": {
  "kernelspec": {
   "display_name": "pytorch",
   "language": "python",
   "name": "python3"
  },
  "language_info": {
   "codemirror_mode": {
    "name": "ipython",
    "version": 3
   },
   "file_extension": ".py",
   "mimetype": "text/x-python",
   "name": "python",
   "nbconvert_exporter": "python",
   "pygments_lexer": "ipython3",
   "version": "3.12.9"
  }
 },
 "nbformat": 4,
 "nbformat_minor": 5
}
