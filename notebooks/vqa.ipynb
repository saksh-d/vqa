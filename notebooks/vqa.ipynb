{
 "cells": [
  {
   "cell_type": "markdown",
   "id": "47b9c1c0",
   "metadata": {},
   "source": [
    "# Visual Question Answering (VQA)\n",
    "This notebook implements a VQA project. Based on the dataset available at https://visualqa.org/, and the paper: https://arxiv.org/pdf/1612.00837\n",
    "\n",
    "Download images dataset - MSCOCO:\n",
    "- Train Data : http://images.cocodataset.org/zips/train2014.zip (~82000 images)\n",
    "- Val Data: http://images.cocodataset.org/zips/val2014.zip (~41000 images)\n",
    "\n",
    "Additionally, the HuggingFace dataset available at [HuggingFaceM4/VQAv2](https://huggingface.co/datasets/HuggingFaceM4/VQAv2) is also used for the text questions and answers."
   ]
  },
  {
   "cell_type": "code",
   "execution_count": null,
   "id": "d767ff6d",
   "metadata": {},
   "outputs": [],
   "source": [
    "# Load the dataset\n",
    "from datasets import load_dataset\n",
    "import os\n",
    "\n",
    "dataset = load_dataset(\"HuggingFaceH4/VQAv2\", split=\"train\")\n",
    "\n",
    "# Root to downloaded images\n",
    "IMG_ROOT = \"/data\"\n",
    "\n",
    "# Function to get image paths\n",
    "def get_img_path(img_id):\n",
    "    img_filename = img_id[\"image\"]\n",
    "    split = \"train2014\" if \"train2014\" in img_filename else \"val2014\"\n",
    "    full_path = os.path.join(IMG_ROOT, split, img_filename)\n",
    "    img_id[\"image_path\"] = full_path\n",
    "    return img_id\n",
    "\n",
    "# Apply mapping\n",
    "dataset = dataset.map(get_img_path)\n"
   ]
  },
  {
   "cell_type": "code",
   "execution_count": null,
   "id": "db471319",
   "metadata": {},
   "outputs": [],
   "source": []
  }
 ],
 "metadata": {
  "kernelspec": {
   "display_name": "pytorch",
   "language": "python",
   "name": "python3"
  },
  "language_info": {
   "codemirror_mode": {
    "name": "ipython",
    "version": 3
   },
   "file_extension": ".py",
   "mimetype": "text/x-python",
   "name": "python",
   "nbconvert_exporter": "python",
   "pygments_lexer": "ipython3",
   "version": "3.12.9"
  }
 },
 "nbformat": 4,
 "nbformat_minor": 5
}
