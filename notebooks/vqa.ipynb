{
 "cells": [
  {
   "cell_type": "markdown",
   "id": "47b9c1c0",
   "metadata": {},
   "source": [
    "# Visual Question Answering (VQA)\n",
    "This notebook implements a multi-modal architecture for VQA based on the DAQUAR dataset introduced here: [DAQUAR dataset](https://www.mpi-inf.mpg.de/departments/computer-vision-and-machine-learning/research/vision-and-language/visual-turing-challenge/)\n",
    "\n",
    "The objective of this project is to merge two modalities: Images + Text and build an AI that can answer questions about images."
   ]
  },
  {
   "cell_type": "markdown",
   "id": "5597d48a",
   "metadata": {},
   "source": [
    "## Dataset\n",
    "\n",
    "The processed version of the dataset used in this project can be downloaded from Kaggle [here](https://www.kaggle.com/datasets/tezansahu/processed-daquar-dataset/data). Also contains the original dataset files.\n",
    "\n",
    "### Original dataset\n",
    "The original dataset has 3 files:\n",
    "- `all_qa_pairs.txt`\n",
    "- `train_images_list.txt`\n",
    "- `test_images_list.txt`\n",
    "\n",
    "### Processed dataset\n",
    "\n",
    "The processed version dataset contains a processed version of the full DAQUAR dataset, with the following descriptions:\n",
    "- `data.csv`: Processed dataset after normalizing all the questions and conversting the data into a tabular format {question, answer, image_id}\n",
    "- `data_train.csv`: Training data from `train_images_list.txt`\n",
    "- `data_eval.csv`: Testing data from `test_images_list.txt`\n",
    "- `answer_space.txt`: List of all possible answers extracted from `all_qa_pairs.txt`"
   ]
  },
  {
   "cell_type": "markdown",
   "id": "91cc0764",
   "metadata": {},
   "source": []
  }
 ],
 "metadata": {
  "kernelspec": {
   "display_name": "pytorch",
   "language": "python",
   "name": "python3"
  },
  "language_info": {
   "codemirror_mode": {
    "name": "ipython",
    "version": 3
   },
   "file_extension": ".py",
   "mimetype": "text/x-python",
   "name": "python",
   "nbconvert_exporter": "python",
   "pygments_lexer": "ipython3",
   "version": "3.12.9"
  }
 },
 "nbformat": 4,
 "nbformat_minor": 5
}
